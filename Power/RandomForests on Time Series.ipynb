{
 "cells": [
  {
   "cell_type": "markdown",
   "metadata": {},
   "source": [
    "# Random Forests on Time Series\n",
    "Household power consumption is a dataset that caught my eye. It has over a million readings of power consumed in an household, with different columns for active & reactive power, current, voltage etc. all sampled and averaged in one-minute intervals. I played around with the dataset a little, performed exploratory analysis etc. I decided to read up on any existing analysis of the dataset and I found a paper using ARMA/ARIMA on it. This paper introduced me to time series analysis used on electric power. \n",
    "\n",
    "I tried out fitting ARIMA model on the power dataset myself. I wondered how would conventional machine learning methods fare predicting the future values of the electric power and I tried it out.\n",
    "\n",
    "## Data Wrangling\n",
    "\n",
    "The data is well recorded. Proper separation and missing value characters have been used. We shall be using R primarily to perform the cleaning and analysis.\n",
    "\n",
    "The following code was written to tidy the data into a better form –"
   ]
  },
  {
   "cell_type": "code",
   "execution_count": 2,
   "metadata": {
    "collapsed": false,
    "scrolled": true
   },
   "outputs": [
    {
     "data": {
      "text/html": [
       "<table>\n",
       "<thead><tr><th scope=col>Date</th><th scope=col>Time</th><th scope=col>Global_active_power</th><th scope=col>Global_reactive_power</th><th scope=col>Voltage</th><th scope=col>Global_intensity</th><th scope=col>Sub_metering_1</th><th scope=col>Sub_metering_2</th><th scope=col>Sub_metering_3</th></tr></thead>\n",
       "<tbody>\n",
       "\t<tr><td>17/12/2006</td><td>00:00:00  </td><td>1.044     </td><td>0.152     </td><td>242.73    </td><td> 4.4      </td><td>0         </td><td>2         </td><td>0         </td></tr>\n",
       "\t<tr><td>17/12/2006</td><td>00:01:00  </td><td>1.520     </td><td>0.220     </td><td>242.20    </td><td> 7.4      </td><td>0         </td><td>1         </td><td>0         </td></tr>\n",
       "\t<tr><td>17/12/2006</td><td>00:02:00  </td><td>3.038     </td><td>0.194     </td><td>240.14    </td><td>12.6      </td><td>0         </td><td>2         </td><td>0         </td></tr>\n",
       "\t<tr><td>17/12/2006</td><td>00:03:00  </td><td>2.974     </td><td>0.194     </td><td>239.97    </td><td>12.4      </td><td>0         </td><td>1         </td><td>0         </td></tr>\n",
       "\t<tr><td>17/12/2006</td><td>00:04:00  </td><td>2.846     </td><td>0.198     </td><td>240.39    </td><td>11.8      </td><td>0         </td><td>2         </td><td>0         </td></tr>\n",
       "\t<tr><td>17/12/2006</td><td>00:05:00  </td><td>2.848     </td><td>0.198     </td><td>240.59    </td><td>11.8      </td><td>0         </td><td>1         </td><td>0         </td></tr>\n",
       "</tbody>\n",
       "</table>\n"
      ],
      "text/latex": [
       "\\begin{tabular}{r|lllllllll}\n",
       " Date & Time & Global\\_active\\_power & Global\\_reactive\\_power & Voltage & Global\\_intensity & Sub\\_metering\\_1 & Sub\\_metering\\_2 & Sub\\_metering\\_3\\\\\n",
       "\\hline\n",
       "\t 17/12/2006 & 00:00:00   & 1.044      & 0.152      & 242.73     &  4.4       & 0          & 2          & 0         \\\\\n",
       "\t 17/12/2006 & 00:01:00   & 1.520      & 0.220      & 242.20     &  7.4       & 0          & 1          & 0         \\\\\n",
       "\t 17/12/2006 & 00:02:00   & 3.038      & 0.194      & 240.14     & 12.6       & 0          & 2          & 0         \\\\\n",
       "\t 17/12/2006 & 00:03:00   & 2.974      & 0.194      & 239.97     & 12.4       & 0          & 1          & 0         \\\\\n",
       "\t 17/12/2006 & 00:04:00   & 2.846      & 0.198      & 240.39     & 11.8       & 0          & 2          & 0         \\\\\n",
       "\t 17/12/2006 & 00:05:00   & 2.848      & 0.198      & 240.59     & 11.8       & 0          & 1          & 0         \\\\\n",
       "\\end{tabular}\n"
      ],
      "text/markdown": [
       "\n",
       "Date | Time | Global_active_power | Global_reactive_power | Voltage | Global_intensity | Sub_metering_1 | Sub_metering_2 | Sub_metering_3 | \n",
       "|---|---|---|---|---|---|\n",
       "| 17/12/2006 | 00:00:00   | 1.044      | 0.152      | 242.73     |  4.4       | 0          | 2          | 0          | \n",
       "| 17/12/2006 | 00:01:00   | 1.520      | 0.220      | 242.20     |  7.4       | 0          | 1          | 0          | \n",
       "| 17/12/2006 | 00:02:00   | 3.038      | 0.194      | 240.14     | 12.6       | 0          | 2          | 0          | \n",
       "| 17/12/2006 | 00:03:00   | 2.974      | 0.194      | 239.97     | 12.4       | 0          | 1          | 0          | \n",
       "| 17/12/2006 | 00:04:00   | 2.846      | 0.198      | 240.39     | 11.8       | 0          | 2          | 0          | \n",
       "| 17/12/2006 | 00:05:00   | 2.848      | 0.198      | 240.59     | 11.8       | 0          | 1          | 0          | \n",
       "\n",
       "\n"
      ],
      "text/plain": [
       "  Date       Time     Global_active_power Global_reactive_power Voltage\n",
       "1 17/12/2006 00:00:00 1.044               0.152                 242.73 \n",
       "2 17/12/2006 00:01:00 1.520               0.220                 242.20 \n",
       "3 17/12/2006 00:02:00 3.038               0.194                 240.14 \n",
       "4 17/12/2006 00:03:00 2.974               0.194                 239.97 \n",
       "5 17/12/2006 00:04:00 2.846               0.198                 240.39 \n",
       "6 17/12/2006 00:05:00 2.848               0.198                 240.59 \n",
       "  Global_intensity Sub_metering_1 Sub_metering_2 Sub_metering_3\n",
       "1  4.4             0              2              0             \n",
       "2  7.4             0              1              0             \n",
       "3 12.6             0              2              0             \n",
       "4 12.4             0              1              0             \n",
       "5 11.8             0              2              0             \n",
       "6 11.8             0              1              0             "
      ]
     },
     "metadata": {},
     "output_type": "display_data"
    }
   ],
   "source": [
    "require(lubridate)\n",
    "require(zoo)\n",
    "data = read.table(\"household_power_consumption.txt\", sep=\";\", header=TRUE, na.strings=\"?\")\n",
    "head(data)"
   ]
  },
  {
   "cell_type": "code",
   "execution_count": 3,
   "metadata": {
    "collapsed": false
   },
   "outputs": [
    {
     "data": {
      "text/html": [
       "<table>\n",
       "<thead><tr><th scope=col>DateTime</th><th scope=col>ActivePower</th><th scope=col>ReactivePower</th><th scope=col>Voltage</th><th scope=col>Current</th><th scope=col>Sub1</th><th scope=col>Sub2</th><th scope=col>Sub3</th></tr></thead>\n",
       "<tbody>\n",
       "\t<tr><td>2006-12-17 00:00:00</td><td>1.044              </td><td>0.152              </td><td>242.73             </td><td> 4.4               </td><td>0                  </td><td>2                  </td><td>0                  </td></tr>\n",
       "\t<tr><td>2006-12-17 00:01:00</td><td>1.520              </td><td>0.220              </td><td>242.20             </td><td> 7.4               </td><td>0                  </td><td>1                  </td><td>0                  </td></tr>\n",
       "\t<tr><td>2006-12-17 00:02:00</td><td>3.038              </td><td>0.194              </td><td>240.14             </td><td>12.6               </td><td>0                  </td><td>2                  </td><td>0                  </td></tr>\n",
       "\t<tr><td>2006-12-17 00:03:00</td><td>2.974              </td><td>0.194              </td><td>239.97             </td><td>12.4               </td><td>0                  </td><td>1                  </td><td>0                  </td></tr>\n",
       "\t<tr><td>2006-12-17 00:04:00</td><td>2.846              </td><td>0.198              </td><td>240.39             </td><td>11.8               </td><td>0                  </td><td>2                  </td><td>0                  </td></tr>\n",
       "\t<tr><td>2006-12-17 00:05:00</td><td>2.848              </td><td>0.198              </td><td>240.59             </td><td>11.8               </td><td>0                  </td><td>1                  </td><td>0                  </td></tr>\n",
       "</tbody>\n",
       "</table>\n"
      ],
      "text/latex": [
       "\\begin{tabular}{r|llllllll}\n",
       " DateTime & ActivePower & ReactivePower & Voltage & Current & Sub1 & Sub2 & Sub3\\\\\n",
       "\\hline\n",
       "\t 2006-12-17 00:00:00 & 1.044               & 0.152               & 242.73              &  4.4                & 0                   & 2                   & 0                  \\\\\n",
       "\t 2006-12-17 00:01:00 & 1.520               & 0.220               & 242.20              &  7.4                & 0                   & 1                   & 0                  \\\\\n",
       "\t 2006-12-17 00:02:00 & 3.038               & 0.194               & 240.14              & 12.6                & 0                   & 2                   & 0                  \\\\\n",
       "\t 2006-12-17 00:03:00 & 2.974               & 0.194               & 239.97              & 12.4                & 0                   & 1                   & 0                  \\\\\n",
       "\t 2006-12-17 00:04:00 & 2.846               & 0.198               & 240.39              & 11.8                & 0                   & 2                   & 0                  \\\\\n",
       "\t 2006-12-17 00:05:00 & 2.848               & 0.198               & 240.59              & 11.8                & 0                   & 1                   & 0                  \\\\\n",
       "\\end{tabular}\n"
      ],
      "text/markdown": [
       "\n",
       "DateTime | ActivePower | ReactivePower | Voltage | Current | Sub1 | Sub2 | Sub3 | \n",
       "|---|---|---|---|---|---|\n",
       "| 2006-12-17 00:00:00 | 1.044               | 0.152               | 242.73              |  4.4                | 0                   | 2                   | 0                   | \n",
       "| 2006-12-17 00:01:00 | 1.520               | 0.220               | 242.20              |  7.4                | 0                   | 1                   | 0                   | \n",
       "| 2006-12-17 00:02:00 | 3.038               | 0.194               | 240.14              | 12.6                | 0                   | 2                   | 0                   | \n",
       "| 2006-12-17 00:03:00 | 2.974               | 0.194               | 239.97              | 12.4                | 0                   | 1                   | 0                   | \n",
       "| 2006-12-17 00:04:00 | 2.846               | 0.198               | 240.39              | 11.8                | 0                   | 2                   | 0                   | \n",
       "| 2006-12-17 00:05:00 | 2.848               | 0.198               | 240.59              | 11.8                | 0                   | 1                   | 0                   | \n",
       "\n",
       "\n"
      ],
      "text/plain": [
       "  DateTime            ActivePower ReactivePower Voltage Current Sub1 Sub2 Sub3\n",
       "1 2006-12-17 00:00:00 1.044       0.152         242.73   4.4    0    2    0   \n",
       "2 2006-12-17 00:01:00 1.520       0.220         242.20   7.4    0    1    0   \n",
       "3 2006-12-17 00:02:00 3.038       0.194         240.14  12.6    0    2    0   \n",
       "4 2006-12-17 00:03:00 2.974       0.194         239.97  12.4    0    1    0   \n",
       "5 2006-12-17 00:04:00 2.846       0.198         240.39  11.8    0    2    0   \n",
       "6 2006-12-17 00:05:00 2.848       0.198         240.59  11.8    0    1    0   "
      ]
     },
     "metadata": {},
     "output_type": "display_data"
    }
   ],
   "source": [
    "colnames(data) = c(\"Date\", \"Time\", \"ActivePower\", \"ReactivePower\", \"Voltage\", \n",
    "                  \"Current\", \"Sub1\", \"Sub2\", \"Sub3\")\n",
    "data$DateTime = do.call(paste, c(data[c(\"Date\", \"Time\")], sep = \" \")) #Concatenating Date and Time columns\n",
    "#Deleting redundant columns after concatenating\n",
    "data$Date = NULL\n",
    "data$Time = NULL\n",
    "data = data[c(8,1:7)] #Rearranging the columns\n",
    "data[,1] = dmy_hms(data[,1])\n",
    "head(data)"
   ]
  },
  {
   "cell_type": "markdown",
   "metadata": {},
   "source": [
    "There is an issue of missing data. As it is less than 5% of the actual data, it can be ignored. But as we are dealing with time series, every point counts. The plan is to replace the missing value with the value of the day before with some noise."
   ]
  },
  {
   "cell_type": "code",
   "execution_count": 4,
   "metadata": {
    "collapsed": false
   },
   "outputs": [
    {
     "data": {
      "text/html": [
       "<dl class=dl-horizontal>\n",
       "\t<dt>DateTime</dt>\n",
       "\t\t<dd>0</dd>\n",
       "\t<dt>ActivePower</dt>\n",
       "\t\t<dd>25979</dd>\n",
       "\t<dt>ReactivePower</dt>\n",
       "\t\t<dd>25979</dd>\n",
       "\t<dt>Voltage</dt>\n",
       "\t\t<dd>25979</dd>\n",
       "\t<dt>Current</dt>\n",
       "\t\t<dd>25979</dd>\n",
       "\t<dt>Sub1</dt>\n",
       "\t\t<dd>25979</dd>\n",
       "\t<dt>Sub2</dt>\n",
       "\t\t<dd>25979</dd>\n",
       "\t<dt>Sub3</dt>\n",
       "\t\t<dd>25979</dd>\n",
       "</dl>\n"
      ],
      "text/latex": [
       "\\begin{description*}\n",
       "\\item[DateTime] 0\n",
       "\\item[ActivePower] 25979\n",
       "\\item[ReactivePower] 25979\n",
       "\\item[Voltage] 25979\n",
       "\\item[Current] 25979\n",
       "\\item[Sub1] 25979\n",
       "\\item[Sub2] 25979\n",
       "\\item[Sub3] 25979\n",
       "\\end{description*}\n"
      ],
      "text/markdown": [
       "DateTime\n",
       ":   0ActivePower\n",
       ":   25979ReactivePower\n",
       ":   25979Voltage\n",
       ":   25979Current\n",
       ":   25979Sub1\n",
       ":   25979Sub2\n",
       ":   25979Sub3\n",
       ":   25979\n",
       "\n"
      ],
      "text/plain": [
       "     DateTime   ActivePower ReactivePower       Voltage       Current \n",
       "            0         25979         25979         25979         25979 \n",
       "         Sub1          Sub2          Sub3 \n",
       "        25979         25979         25979 "
      ]
     },
     "metadata": {},
     "output_type": "display_data"
    }
   ],
   "source": [
    "#First we need to see whether the number of missing data is same for all columns\n",
    "sapply(data, function(x) sum(is.na(x)))"
   ]
  },
  {
   "cell_type": "code",
   "execution_count": 5,
   "metadata": {
    "collapsed": false
   },
   "outputs": [
    {
     "data": {
      "text/html": [
       "0"
      ],
      "text/latex": [
       "0"
      ],
      "text/markdown": [
       "0"
      ],
      "text/plain": [
       "[1] 0"
      ]
     },
     "metadata": {},
     "output_type": "display_data"
    }
   ],
   "source": [
    "for(j in 2:8) {\n",
    " for(i in which(is.na(data[,j]))){\n",
    "    data[i, j] = abs(jitter(data[i-1440, j]))\n",
    "    }\n",
    "}\n",
    "length(which(is.na(data)))"
   ]
  },
  {
   "cell_type": "markdown",
   "metadata": {},
   "source": [
    "Now hourly-averaged and daily-averaged dataframes are created. The DateTime column isn't going to be used in the machine learning algorithms as it is not very clear how these algorithms handle POSIXct data. The effect of date and time shall be represented by dummy variables -\n",
    "- dow – The day of the week. \n",
    "- month – Self-explanatory.\n",
    "- dom  – The day of the month. \n",
    "- hour – Only in the hourly data frame. "
   ]
  },
  {
   "cell_type": "code",
   "execution_count": 6,
   "metadata": {
    "collapsed": true
   },
   "outputs": [],
   "source": [
    "hourly = aggregate(data,format(data[\"DateTime\"],\"%Y-%m-%d %H:00\"),mean, na.rm=TRUE)\n",
    "#deleting first column\n",
    "hourly[[1]] = NULL"
   ]
  },
  {
   "cell_type": "code",
   "execution_count": 7,
   "metadata": {
    "collapsed": false
   },
   "outputs": [
    {
     "data": {
      "text/html": [
       "<table>\n",
       "<thead><tr><th scope=col>DateTime</th><th scope=col>ActivePower</th><th scope=col>ReactivePower</th><th scope=col>Voltage</th><th scope=col>Current</th><th scope=col>Sub1</th><th scope=col>Sub2</th><th scope=col>Sub3</th><th scope=col>dow</th><th scope=col>month</th><th scope=col>dom</th><th scope=col>hour</th></tr></thead>\n",
       "<tbody>\n",
       "\t<tr><td>2006-12-16 19:29:30</td><td>1.882467           </td><td>0.10243333         </td><td>240.9618           </td><td> 8.126667          </td><td>0                  </td><td> 0.4666667         </td><td>0.000000           </td><td>7                  </td><td>12                 </td><td>16                 </td><td>19                 </td></tr>\n",
       "\t<tr><td>2006-12-16 20:29:30</td><td>3.349400           </td><td>0.13693333         </td><td>240.4483           </td><td>14.246667          </td><td>0                  </td><td>25.2333333         </td><td>0.000000           </td><td>7                  </td><td>12                 </td><td>16                 </td><td>20                 </td></tr>\n",
       "\t<tr><td>2006-12-16 21:29:30</td><td>1.587267           </td><td>0.07823333         </td><td>245.8187           </td><td> 6.870000          </td><td>0                  </td><td> 0.5666667         </td><td>0.000000           </td><td>7                  </td><td>12                 </td><td>16                 </td><td>21                 </td></tr>\n",
       "\t<tr><td>2006-12-16 22:29:30</td><td>1.662200           </td><td>0.07953333         </td><td>244.5135           </td><td> 7.206667          </td><td>0                  </td><td> 0.7666667         </td><td>0.000000           </td><td>7                  </td><td>12                 </td><td>16                 </td><td>22                 </td></tr>\n",
       "\t<tr><td>2006-12-16 23:29:30</td><td>2.215767           </td><td>0.09346667         </td><td>243.8555           </td><td> 9.333333          </td><td>0                  </td><td> 0.5666667         </td><td>8.883333           </td><td>7                  </td><td>12                 </td><td>16                 </td><td>23                 </td></tr>\n",
       "\t<tr><td>2006-12-17 00:29:30</td><td>1.996733           </td><td>0.06023333         </td><td>243.7102           </td><td> 8.566667          </td><td>0                  </td><td> 0.1666667         </td><td>4.650000           </td><td>1                  </td><td>12                 </td><td>17                 </td><td> 0                 </td></tr>\n",
       "</tbody>\n",
       "</table>\n"
      ],
      "text/latex": [
       "\\begin{tabular}{r|llllllllllll}\n",
       " DateTime & ActivePower & ReactivePower & Voltage & Current & Sub1 & Sub2 & Sub3 & dow & month & dom & hour\\\\\n",
       "\\hline\n",
       "\t 2006-12-16 19:29:30 & 1.882467            & 0.10243333          & 240.9618            &  8.126667           & 0                   &  0.4666667          & 0.000000            & 7                   & 12                  & 16                  & 19                 \\\\\n",
       "\t 2006-12-16 20:29:30 & 3.349400            & 0.13693333          & 240.4483            & 14.246667           & 0                   & 25.2333333          & 0.000000            & 7                   & 12                  & 16                  & 20                 \\\\\n",
       "\t 2006-12-16 21:29:30 & 1.587267            & 0.07823333          & 245.8187            &  6.870000           & 0                   &  0.5666667          & 0.000000            & 7                   & 12                  & 16                  & 21                 \\\\\n",
       "\t 2006-12-16 22:29:30 & 1.662200            & 0.07953333          & 244.5135            &  7.206667           & 0                   &  0.7666667          & 0.000000            & 7                   & 12                  & 16                  & 22                 \\\\\n",
       "\t 2006-12-16 23:29:30 & 2.215767            & 0.09346667          & 243.8555            &  9.333333           & 0                   &  0.5666667          & 8.883333            & 7                   & 12                  & 16                  & 23                 \\\\\n",
       "\t 2006-12-17 00:29:30 & 1.996733            & 0.06023333          & 243.7102            &  8.566667           & 0                   &  0.1666667          & 4.650000            & 1                   & 12                  & 17                  &  0                 \\\\\n",
       "\\end{tabular}\n"
      ],
      "text/markdown": [
       "\n",
       "DateTime | ActivePower | ReactivePower | Voltage | Current | Sub1 | Sub2 | Sub3 | dow | month | dom | hour | \n",
       "|---|---|---|---|---|---|\n",
       "| 2006-12-16 19:29:30 | 1.882467            | 0.10243333          | 240.9618            |  8.126667           | 0                   |  0.4666667          | 0.000000            | 7                   | 12                  | 16                  | 19                  | \n",
       "| 2006-12-16 20:29:30 | 3.349400            | 0.13693333          | 240.4483            | 14.246667           | 0                   | 25.2333333          | 0.000000            | 7                   | 12                  | 16                  | 20                  | \n",
       "| 2006-12-16 21:29:30 | 1.587267            | 0.07823333          | 245.8187            |  6.870000           | 0                   |  0.5666667          | 0.000000            | 7                   | 12                  | 16                  | 21                  | \n",
       "| 2006-12-16 22:29:30 | 1.662200            | 0.07953333          | 244.5135            |  7.206667           | 0                   |  0.7666667          | 0.000000            | 7                   | 12                  | 16                  | 22                  | \n",
       "| 2006-12-16 23:29:30 | 2.215767            | 0.09346667          | 243.8555            |  9.333333           | 0                   |  0.5666667          | 8.883333            | 7                   | 12                  | 16                  | 23                  | \n",
       "| 2006-12-17 00:29:30 | 1.996733            | 0.06023333          | 243.7102            |  8.566667           | 0                   |  0.1666667          | 4.650000            | 1                   | 12                  | 17                  |  0                  | \n",
       "\n",
       "\n"
      ],
      "text/plain": [
       "  DateTime            ActivePower ReactivePower Voltage  Current   Sub1\n",
       "1 2006-12-16 19:29:30 1.882467    0.10243333    240.9618  8.126667 0   \n",
       "2 2006-12-16 20:29:30 3.349400    0.13693333    240.4483 14.246667 0   \n",
       "3 2006-12-16 21:29:30 1.587267    0.07823333    245.8187  6.870000 0   \n",
       "4 2006-12-16 22:29:30 1.662200    0.07953333    244.5135  7.206667 0   \n",
       "5 2006-12-16 23:29:30 2.215767    0.09346667    243.8555  9.333333 0   \n",
       "6 2006-12-17 00:29:30 1.996733    0.06023333    243.7102  8.566667 0   \n",
       "  Sub2       Sub3     dow month dom hour\n",
       "1  0.4666667 0.000000 7   12    16  19  \n",
       "2 25.2333333 0.000000 7   12    16  20  \n",
       "3  0.5666667 0.000000 7   12    16  21  \n",
       "4  0.7666667 0.000000 7   12    16  22  \n",
       "5  0.5666667 8.883333 7   12    16  23  \n",
       "6  0.1666667 4.650000 1   12    17   0  "
      ]
     },
     "metadata": {},
     "output_type": "display_data"
    }
   ],
   "source": [
    "hourly$dow = wday(hourly$DateTime)\n",
    "hourly$month = month(hourly$DateTime)\n",
    "hourly$dom = mday(hourly$DateTime)\n",
    "hourly$hour = hour(hourly$DateTime)\n",
    "head(hourly)"
   ]
  },
  {
   "cell_type": "code",
   "execution_count": 34,
   "metadata": {
    "collapsed": false
   },
   "outputs": [],
   "source": [
    "#splitting the data into training and testing sets\n",
    "train = hourly[1:floor(0.7*nrow(hourly)),]\n",
    "test = hourly[ceiling(0.7*nrow(hourly)):nrow(hourly),]"
   ]
  },
  {
   "cell_type": "markdown",
   "metadata": {},
   "source": [
    "## Time Series Analysis\n",
    "The training data is used for fitting the model. We shall use an ARIMA model. An ARIMA model is a generalized version of ARMA. In this model, both the output variable and the error term are linearly dependent on previous values (as indicated by the presence of lag operator).\n",
    "\n",
    "$ \\left( 1 - \\sum_{i=1}^p \\phi_i L^i \\right)\n",
    "(1-L)^d X_t\n",
    "= \\left( 1 + \\sum_{i=1}^q \\theta_i L^i \\right) \\varepsilon_t \\,$\n",
    "\n",
    "\n",
    "As we are trying to predict active power, we create a time series from the ActivePower column from the training set. We shall decompose these series to observe trends and seasonality"
   ]
  },
  {
   "cell_type": "code",
   "execution_count": 59,
   "metadata": {
    "collapsed": false,
    "scrolled": true
   },
   "outputs": [
    {
     "data": {
      "image/png": "[encoded data removed]",
      "text/plain": [
       "plot without title"
      ]
     },
     "metadata": {},
     "output_type": "display_data"
    }
   ],
   "source": [
    "options(repr.plot.width=6, repr.plot.height=5)\n",
    "hourly_time_series = ts(train[[2]], start=c(2006,8400), frequency=24*365)\n",
    "#The start parameter is set to be 2006, 8400 because the first reading\n",
    "#in the data is the 8400th hour of the year\n",
    "plot(decompose(hourly_time_series))"
   ]
  },
  {
   "cell_type": "markdown",
   "metadata": {},
   "source": [
    "We use `auto.arima()` function in the forecast package to determine the order of the ARIMA model to be fitted. Then we fit the model and predict the values for the next 10375 points (as the length of the htest data frame is 10375)\n",
    "\n"
   ]
  },
  {
   "cell_type": "code",
   "execution_count": 37,
   "metadata": {
    "collapsed": false,
    "scrolled": true
   },
   "outputs": [
    {
     "data": {
      "text/plain": [
       "Series: hourly_time_series \n",
       "ARIMA(2,1,2)                    \n",
       "\n",
       "Coefficients:\n",
       "         ar1      ar2      ma1     ma2\n",
       "      1.3697  -0.5335  -1.6166  0.6208\n",
       "s.e.  0.0200   0.0132   0.0212  0.0211\n",
       "\n",
       "sigma^2 estimated as 0.3988:  log likelihood=-23219.72\n",
       "AIC=46449.44   AICc=46449.44   BIC=46489.91"
      ]
     },
     "metadata": {},
     "output_type": "display_data"
    }
   ],
   "source": [
    "require(forecast)\n",
    "auto.arima(hourly_time_series, stepwise=FALSE, approximation=FALSE)"
   ]
  },
  {
   "cell_type": "code",
   "execution_count": 45,
   "metadata": {
    "collapsed": false
   },
   "outputs": [
    {
     "data": {
      "text/html": [
       "0.815163227126628"
      ],
      "text/latex": [
       "0.815163227126628"
      ],
      "text/markdown": [
       "0.815163227126628"
      ],
      "text/plain": [
       "[1] 0.8151632"
      ]
     },
     "metadata": {},
     "output_type": "display_data"
    }
   ],
   "source": [
    "fit = arima(hourly_time_series, order = c(2,1,2))\n",
    "arima_pred = predict(fit, n.ahead=10375)\n",
    "sqrt(mean((arima_pred$pred - test[[2]])^2))"
   ]
  },
  {
   "cell_type": "markdown",
   "metadata": {},
   "source": [
    "RMSE comes out to be around $0.815$"
   ]
  },
  {
   "cell_type": "markdown",
   "metadata": {},
   "source": [
    "## Conventional machine learning algorithms\n",
    "\n",
    "### Regression model"
   ]
  },
  {
   "cell_type": "code",
   "execution_count": 50,
   "metadata": {
    "collapsed": false,
    "scrolled": true
   },
   "outputs": [
    {
     "data": {
      "text/html": [
       "0.163581848079151"
      ],
      "text/latex": [
       "0.163581848079151"
      ],
      "text/markdown": [
       "0.163581848079151"
      ],
      "text/plain": [
       "[1] 0.1635818"
      ]
     },
     "metadata": {},
     "output_type": "display_data"
    }
   ],
   "source": [
    "require(rpart)\n",
    "hourly_regmodel = rpart(formula=ActivePower~.,data=train,method=\"anova\")\n",
    "hourly_regmodel_pred = predict(hourly_regmodel,test)\n",
    "sqrt(mean((hourly_regmodel_pred-test[[2]])^2))"
   ]
  },
  {
   "cell_type": "markdown",
   "metadata": {},
   "source": [
    "### Random Forest"
   ]
  },
  {
   "cell_type": "code",
   "execution_count": 60,
   "metadata": {
    "collapsed": false,
    "scrolled": true
   },
   "outputs": [
    {
     "data": {
      "text/html": [
       "0.0469929290741666"
      ],
      "text/latex": [
       "0.0469929290741666"
      ],
      "text/markdown": [
       "0.0469929290741666"
      ],
      "text/plain": [
       "[1] 0.04699293"
      ]
     },
     "metadata": {},
     "output_type": "display_data"
    },
    {
     "data": {
      "image/png": "[encoded data removed]",
      "text/plain": [
       "plot without title"
      ]
     },
     "metadata": {},
     "output_type": "display_data"
    }
   ],
   "source": [
    "require(randomForest)\n",
    "hourly_rfmodel = randomForest(formula=ActivePower~., data=train, ntree=1000, importance=TRUE)\n",
    "hourly_rfmodel_pred = predict(hourly_rfmodel, test)\n",
    "sqrt(mean((hourly_rfmodel_pred - orig)^2))\n",
    "varImpPlot(hourly_rfmodel)"
   ]
  },
  {
   "cell_type": "markdown",
   "metadata": {},
   "source": [
    "We get RMSE's of $0.16$ and $0.04$ for the regression model and random forest respectively. This is incredibly lower than the one we got from ARIMA prediction.\n",
    "\n",
    "So what is actually going on? On a closer look, the predictors for the ML algorithms have been chosen wrongly. In a practical setting, it is impossible to have physical measurements like **Current, Sub1, Voltage** etc. beforehand. So let’s try running RandomForest with only the dow, dom, month and hour variables to predict Active Power and see how our RMSE is affected.\n",
    "\n"
   ]
  },
  {
   "cell_type": "code",
   "execution_count": 67,
   "metadata": {
    "collapsed": false,
    "scrolled": false
   },
   "outputs": [
    {
     "data": {
      "text/html": [
       "0.655379384466261"
      ],
      "text/latex": [
       "0.655379384466261"
      ],
      "text/markdown": [
       "0.655379384466261"
      ],
      "text/plain": [
       "[1] 0.6553794"
      ]
     },
     "metadata": {},
     "output_type": "display_data"
    }
   ],
   "source": [
    "hourly_rfmodel_mod = randomForest(formula=ActivePower~hour+month+dow+dom,\n",
    "                                 data=train, ntree=1000, importance=TRUE)\n",
    "\n",
    "hourly_rfmodel_mod_pred = predict(hourly_rfmodel_mod, test)\n",
    "sqrt(mean((hourly_rfmodel_mod_pred-test[[2]])^2))"
   ]
  },
  {
   "cell_type": "markdown",
   "metadata": {},
   "source": [
    "We notice a drastic change in the RMSE, increasing by a magnitude of 16 for hourly series. But the new RMSE for Random Forests still remains less than those calculated for ARIMA. "
   ]
  },
  {
   "cell_type": "markdown",
   "metadata": {},
   "source": [
    "## References\n",
    "\n",
    "1. [Individual household electric power consumption Data Set”](http://archive.ics.uci.edu/ml) UCI Machine Learning Repository. Irvine, CA: University of California, School of Information and Computer Science\n",
    "\n",
    "2. “Time Series Analysis of Household Electric Consumption with ARIMA and ARMA Models” – Pasapitch Chujai, Nittaya Kerdprasop, and Kittisak Kerdprasop\n",
    "\n",
    "3. [Why and how to use random forest variable importance measures (and how you shouldn’t)](http://www.statistik.uni-dortmund.de/useR-2008/slides/Strobl+Zeileis.pdf)\n",
    "\n",
    "4. [Using R for Time Series Analysis](http://a-little-book-of-r-for-time-series.readthedocs.io/en/latest/src/timeseries.html)"
   ]
  }
 ],
 "metadata": {
  "anaconda-cloud": {},
  "kernelspec": {
   "display_name": "R",
   "language": "R",
   "name": "ir"
  },
  "language_info": {
   "codemirror_mode": "r",
   "file_extension": ".r",
   "mimetype": "text/x-r-source",
   "name": "R",
   "pygments_lexer": "r",
   "version": "3.3.2"
  }
 },
 "nbformat": 4,
 "nbformat_minor": 1
}
